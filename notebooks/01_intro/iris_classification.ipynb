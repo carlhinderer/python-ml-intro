{
 "cells": [
  {
   "cell_type": "markdown",
   "metadata": {},
   "source": [
    "## Iris Classification"
   ]
  },
  {
   "cell_type": "markdown",
   "metadata": {},
   "source": [
    "### Background\n",
    "\n",
    "We assume we are a hobby botanist, and we are interested in distinguishing the species or iris flowers we have found.\n",
    "\n",
    "We have collected some measurements associated with each iris: the length and width of the petals and the lenght and width of the sepals, all measured in centimeters.\n",
    "\n",
    "We also have the measurements of some irises that have previously been identified by an expert botanist as belonging to the species *setosa*, *versicolor*, or *virginica*.  For our purposes, we'll assume that these are the only species we'll see in the wild.\n",
    "\n",
    "Our goal is to build a model so that we can predict the species of a new iris based on its measurements.  This is a *classification* problem, with the species of irises as the classes.  The desired output for a data point is the species of an iris.  For a particular data point, the species it belongs to is called its *label*."
   ]
  },
  {
   "cell_type": "code",
   "execution_count": null,
   "metadata": {},
   "outputs": [],
   "source": []
  }
 ],
 "metadata": {
  "kernelspec": {
   "display_name": "Python 3",
   "language": "python",
   "name": "python3"
  },
  "language_info": {
   "codemirror_mode": {
    "name": "ipython",
    "version": 3
   },
   "file_extension": ".py",
   "mimetype": "text/x-python",
   "name": "python",
   "nbconvert_exporter": "python",
   "pygments_lexer": "ipython3",
   "version": "3.7.1"
  }
 },
 "nbformat": 4,
 "nbformat_minor": 2
}
