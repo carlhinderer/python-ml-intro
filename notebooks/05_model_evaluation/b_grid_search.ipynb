{
 "cells": [
  {
   "cell_type": "markdown",
   "metadata": {},
   "source": [
    "## Grid Search"
   ]
  },
  {
   "cell_type": "markdown",
   "metadata": {},
   "source": [
    "Now that we know how to evaluate how well a model generalizes, we can take the next step and improve the model’s generalization performance by tuning its parameters. We discussed the parameter settings of many of the algorithms in scikit-learn in Chapters 2 and 3, and it is important to understand what the parameters mean before trying to adjust them. Finding the values of the important parameters of a model (the ones that provide the best generalization performance) is a tricky task, but necessary for almost all models and datasets. \n",
    "\n",
    "Because it is such a common task, there are standard methods in scikit-learn to help you with it. The most commonly used method is grid search, which basically means trying all possible combinations of the parameters of interest."
   ]
  },
  {
   "cell_type": "markdown",
   "metadata": {},
   "source": [
    "Consider the case of a kernel SVM with an RBF (radial basis function) kernel, as implemented in the *SVC* class. As we discussed in Chapter 2, there are two important parameters: the kernel bandwidth, *gamma*, and the regularization parameter, *C*. \n",
    "\n",
    "Say we want to try the values 0.001, 0.01, 0.1, 1, 10, and 100 for the parameter C, and the same for gamma. Because we have six different settings for C and gamma that we want to try, we have 36 combinations of parameters in total. Looking at all possible combinations creates a table (or grid) of parameter settings for the SVM, as shown here:"
   ]
  },
  {
   "cell_type": "markdown",
   "metadata": {},
   "source": [
    "%%HTML\n",
    "\n",
    "<table>\n",
    "    <tr>\n",
    "      <th>&nbsp;</th>\n",
    "      <th>C = 0.001</th>\n",
    "      <th>C = 0.01</th>\n",
    "      <th>…</th>\n",
    "      <th>C = 10</th>\n",
    "    </tr>\n",
    "    <tr>\n",
    "      <td>gamma=0.001</td>\n",
    "\t  <td>SVC(C=0.001, gamma=0.001)</td>\n",
    "\t  <td>SVC(C=0.01, gamma=0.001)</td>\n",
    "      <td>…</td>\n",
    "\t  <td>SVC(C=10, gamma=0.001)</td>\n",
    "    </tr>\n",
    "    <tr>\n",
    "      <td>gamma=0.01</td>\n",
    "      <td>SVC(C=0.001, gamma=0.01)</td>\n",
    "      <td>SVC(C=0.01, gamma=0.01)</td>\n",
    "      <td>…</td>\n",
    "      <td>SVC(C=10, gamma=0.01)</td>\n",
    "    </tr>\n",
    "    <tr>\n",
    "      <td>…</td>\n",
    "      <td>…</td>\n",
    "      <td>…</td>\n",
    "      <td>…</td>\n",
    "      <td>…</td>\n",
    "    </tr>\n",
    "    <tr>\n",
    "      <td>gamma=100</td>\n",
    "      <td>SVC(C=0.001, gamma=100)</td>\n",
    "      <td>SVC(C=0.01, gamma=100)</td>\n",
    "      <td>…</td>\n",
    "      <td>SVC(C=10, gamma=100)</td>\n",
    "  </tr>"
   ]
  },
  {
   "cell_type": "code",
   "execution_count": null,
   "metadata": {},
   "outputs": [],
   "source": []
  },
  {
   "cell_type": "code",
   "execution_count": null,
   "metadata": {},
   "outputs": [],
   "source": []
  }
 ],
 "metadata": {
  "kernelspec": {
   "display_name": "Python 3",
   "language": "python",
   "name": "python3"
  },
  "language_info": {
   "codemirror_mode": {
    "name": "ipython",
    "version": 3
   },
   "file_extension": ".py",
   "mimetype": "text/x-python",
   "name": "python",
   "nbconvert_exporter": "python",
   "pygments_lexer": "ipython3",
   "version": "3.7.1"
  }
 },
 "nbformat": 4,
 "nbformat_minor": 2
}
