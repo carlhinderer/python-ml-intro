{
 "cells": [
  {
   "cell_type": "markdown",
   "metadata": {},
   "source": [
    "## Linear Models"
   ]
  },
  {
   "cell_type": "markdown",
   "metadata": {},
   "source": [
    "Linear models are a class of models that are widely used in practice and have been studied extensively in the last few decades, with roots going back over a hundred years.  Linear models make a prediction using a *linear function* of the input features."
   ]
  },
  {
   "cell_type": "markdown",
   "metadata": {},
   "source": [
    "### Linear Models For Regression\n",
    "\n",
    "For regression, the general prediction formula for a linear model looks like:\n",
    "\n",
    "    ŷ = w[0] * x[0] + w[1] * x[1] + ... + w[p] * x[p] + b\n",
    "\n",
    "Here, \n",
    "  - x[0] to x[p] denotes the features of a single data point\n",
    "      (there are p+1 features in this example)\n",
    "  - w and b are parameters of the model that are learned\n",
    "  - ŷ is the prediction the model makes\n",
    "  \n",
    "For a dataset with a single feature, this is:\n",
    "    \n",
    "    ŷ = w[0] * x[0] + b\n",
    "\n",
    "This is really just the basic line, with w[0] as the slope and b as the y-intercept.  For more features, w contains the slope along each feature axis.  \n",
    "\n",
    "Alternatively, you can think of the pre"
   ]
  }
 ],
 "metadata": {
  "kernelspec": {
   "display_name": "Python 3",
   "language": "python",
   "name": "python3"
  },
  "language_info": {
   "codemirror_mode": {
    "name": "ipython",
    "version": 3
   },
   "file_extension": ".py",
   "mimetype": "text/x-python",
   "name": "python",
   "nbconvert_exporter": "python",
   "pygments_lexer": "ipython3",
   "version": "3.7.1"
  }
 },
 "nbformat": 4,
 "nbformat_minor": 2
}
