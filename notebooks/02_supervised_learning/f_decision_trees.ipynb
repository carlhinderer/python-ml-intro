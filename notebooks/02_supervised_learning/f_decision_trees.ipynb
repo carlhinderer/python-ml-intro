{
 "cells": [
  {
   "cell_type": "markdown",
   "metadata": {},
   "source": [
    "## Decision Trees"
   ]
  },
  {
   "cell_type": "markdown",
   "metadata": {},
   "source": [
    "Decision trees are widely used models for classification and regression tasks.  Eseentially, they learn a hierarchy of if/else questions, leading to a decision.\n",
    "\n",
    "These questions are similar to the questions you might ask in a game of *20 Questions*:"
   ]
  },
  {
   "cell_type": "code",
   "execution_count": 2,
   "metadata": {},
   "outputs": [],
   "source": [
    "# Standard imports\n",
    "import numpy as np\n",
    "import matplotlib.pyplot as plt\n",
    "import pandas as pd\n",
    "import scipy as sp\n",
    "import sklearn\n",
    "from IPython.display import display\n",
    "import mglearn\n",
    "\n",
    "# Don't display deprecation warnings\n",
    "import warnings\n",
    "warnings.filterwarnings('ignore')"
   ]
  },
  {
   "cell_type": "code",
   "execution_count": 3,
   "metadata": {},
   "outputs": [
    {
     "data": {
      "image/png": "[encoded data removed]",
      "text/plain": [
       "<Figure size 432x288 with 1 Axes>"
      ]
     },
     "metadata": {
      "needs_background": "light"
     },
     "output_type": "display_data"
    }
   ],
   "source": [
    "mglearn.plots.plot_animal_tree()"
   ]
  },
  {
   "cell_type": "markdown",
   "metadata": {},
   "source": [
    "In this illustration, each node in the tree either represents a question or a leaf that contains the answer.  The edges connect the answers to a question with the next question you would ask.\n",
    "\n",
    "In machine learning parlance, we built a model to distinguish between 4 classes of animals (*hawks, penguins, dolphins, and bears*) using 3 features (*'has feathers', 'can fly', and 'has fins'*)."
   ]
  },
  {
   "cell_type": "markdown",
   "metadata": {},
   "source": [
    "### Building Decision Trees"
   ]
  },
  {
   "cell_type": "markdown",
   "metadata": {},
   "source": [
    "We'll go through the process of building a decision tree for a 2D classification dataset, *two-moons*, that consists of 2 half-moon shapes, with each class consisting of 75 data points.\n",
    "\n",
    "Learning a decision tree means learning the sequence of if/else questions that gets us to the true answer most quickly.  In machine learning settings, these questions are called *tests*.  Usually data does not come in the form of yes/no questions like in the animal tree, but instead represented as continuous features.  The tests that are used on continuous data are of the form *Is Feature i larger than value a?*"
   ]
  },
  {
   "cell_type": "markdown",
   "metadata": {},
   "source": [
    "To build a tree, the algorithm searches over all possible tests and finds the one that is most informative about the target variable.  \n",
    "\n",
    "For the first test, splitting the dataset horizontally at x[1]=0.0596 yields the most information.  The root node represents the entire data set, corresponding to 50 points belonging to class 0 and 50 points belonging to class 1.  \n",
    "\n",
    "If the test (*X[1] <= 0.0596*) is true, a point is assigned to the left node, which contains 2 points belonging to class 0 and 32 points belonging to class 1.\n",
    "\n",
    "If the test is false, a point is assigned to the right node, which contains 48 points belonging to class 0 and 18 points belonging to class 1.  \n",
    "\n",
    "Even though the first split did a good job of separating the two classes, the bottom region still contains points belonging to class 0 and the top region still contains points belonging to class 1."
   ]
  },
  {
   "cell_type": "markdown",
   "metadata": {},
   "source": [
    "![Decision Tree (Depth=1)](img/d1decisiontree.png)"
   ]
  },
  {
   "cell_type": "markdown",
   "metadata": {},
   "source": [
    "We can build a more accurate model by repeating the process of looking for the best test in both regions."
   ]
  },
  {
   "cell_type": "markdown",
   "metadata": {},
   "source": [
    "![Decision Tree (Depth=2)](img/d2decisiontree.png)"
   ]
  },
  {
   "cell_type": "markdown",
   "metadata": {},
   "source": [
    "The recursive process yields a binary tree of decisions, with each node containing a test.  Alternatively, we can think of each test as splitting the part of the data that is currently being considered along one axis.  \n",
    "\n",
    "This yields a view of the algorithm as building a hierarchical position.  As each test concerns only a single feature, the regions in the resulting partition always have axis-parallel boundaries.\n",
    "\n",
    "The recursive partitioning of the data is repeated until each region in the partition only contains a single target value.  A leaf of the tree that contains data points that all share the same target value is called *pure*."
   ]
  },
  {
   "cell_type": "markdown",
   "metadata": {},
   "source": [
    "![Decision Tree (Depth=Final)](img/d9decisiontree.png)"
   ]
  },
  {
   "cell_type": "markdown",
   "metadata": {},
   "source": [
    "A prediction on a new data point is made by checking which region of the partition of the feature space the point lies in, and then predicting the majority target in that region.  The region can be found by traversing the tree and going left or right depending on whether the test is fulfilled or not.\n",
    "\n",
    "It is also possible to use trees for regression tasks using exactly the same technique.  To make a prediction, we traverse the tree based on the tests in each node and find the leaf the new data point falls into.  The output for the data point is the mean target of the training points in this leaf."
   ]
  },
  {
   "cell_type": "markdown",
   "metadata": {},
   "source": [
    "### Controlling Complexity of Decision Trees"
   ]
  },
  {
   "cell_type": "markdown",
   "metadata": {},
   "source": [
    "Typically, building a tree until all leaves are pure leads to a very complex and highly overfit model.  The presence of pure leaves means the tree is 100% accurate on the training set.  \n",
    "\n",
    "There are two common strategies to prevent overfitting:\n",
    "- *Pre-pruning* = stopping the creation of the tree early\n",
    "- *Post-pruning* = removing or collapsing nodes that contain little information\n",
    "\n",
    "Possible criteria for pre-pruning include limiting the maximum depth of the tree, limiting the maximum number of leaves, or requiring a minimum number of points in a node to keep splitting it."
   ]
  },
  {
   "cell_type": "markdown",
   "metadata": {},
   "source": [
    "Decision trees in *scikit-learn* are implemented in the *DecisionTreeRegressor* and *DecisionTreeClassifier* classes.  *scikit-learn* only implements pre-pruning, not post-pruning.\n",
    "\n",
    "Here, we'll look at the effect of pre-pruning in more detail on the Breast Cancer dataset.  We'll also fix the *random_state* in the tree, used for tie-breaking internally."
   ]
  },
  {
   "cell_type": "code",
   "execution_count": 4,
   "metadata": {},
   "outputs": [
    {
     "name": "stdout",
     "output_type": "stream",
     "text": [
      "Accuracy on training set: 1.000\n",
      "Accuracy on test set: 0.937\n"
     ]
    }
   ],
   "source": [
    "from sklearn.model_selection import train_test_split\n",
    "from sklearn.datasets import load_breast_cancer\n",
    "\n",
    "from sklearn.tree import DecisionTreeClassifier\n",
    "\n",
    "cancer = load_breast_cancer()\n",
    "X_train, X_test, y_train, y_test = train_test_split(cancer.data, cancer.target,\n",
    "                                                   stratify=cancer.target, random_state=42)\n",
    "tree = DecisionTreeClassifier(random_state=0)\n",
    "tree.fit(X_train, y_train)\n",
    "\n",
    "print(\"Accuracy on training set: {:.3f}\".format(tree.score(X_train, y_train)))\n",
    "print(\"Accuracy on test set: {:.3f}\".format(tree.score(X_test, y_test)))"
   ]
  },
  {
   "cell_type": "markdown",
   "metadata": {},
   "source": [
    "As expected, the accuracy on the training set is 100%, because the leaves are pure.  Now, we'll try applying pre-pruning to the tree by setting *max_depth=4*."
   ]
  },
  {
   "cell_type": "code",
   "execution_count": 5,
   "metadata": {},
   "outputs": [
    {
     "name": "stdout",
     "output_type": "stream",
     "text": [
      "Accuracy on training set: 0.988\n",
      "Accuracy on test set: 0.951\n"
     ]
    }
   ],
   "source": [
    "tree = DecisionTreeClassifier(random_state=0, max_depth=4)\n",
    "tree.fit(X_train, y_train)\n",
    "\n",
    "print(\"Accuracy on training set: {:.3f}\".format(tree.score(X_train, y_train)))\n",
    "print(\"Accuracy on test set: {:.3f}\".format(tree.score(X_test, y_test)))"
   ]
  },
  {
   "cell_type": "markdown",
   "metadata": {},
   "source": [
    "By pre-pruning the tree, we get a lower accuracy on the training set, but a better accuracy on the test set."
   ]
  },
  {
   "cell_type": "markdown",
   "metadata": {},
   "source": [
    "### Analyzing Decision Trees"
   ]
  },
  {
   "cell_type": "markdown",
   "metadata": {},
   "source": [
    "We can visualize the tree using the *export_graphviz* function from the *tree* module.  This writes a file to the *.dot* file format, which is a text file format for storing graphs."
   ]
  },
  {
   "cell_type": "code",
   "execution_count": 6,
   "metadata": {},
   "outputs": [],
   "source": [
    "from sklearn.tree import export_graphviz\n",
    "\n",
    "export_graphviz(tree, out_file=\"tree.dot\", class_names=[\"malignant\", \"benign\"],\n",
    "               feature_names=cancer.feature_names, impurity=False, filled=True)"
   ]
  },
  {
   "cell_type": "markdown",
   "metadata": {},
   "source": [
    "Now, we can read this file and visualize it using the *graphviz* module."
   ]
  },
  {
   "cell_type": "code",
   "execution_count": 7,
   "metadata": {},
   "outputs": [
    {
     "data": {
      "image/svg+xml": [
       "<?xml version=\"1.0\" encoding=\"UTF-8\" standalone=\"no\"?>\n",
       "<!DOCTYPE svg PUBLIC \"-//W3C//DTD SVG 1.1//EN\"\n",
       " \"http://www.w3.org/Graphics/SVG/1.1/DTD/svg11.dtd\">\n",
       "<!-- Generated by graphviz version 2.40.1 (20161225.0304)\n",
       " -->\n",
       "<!-- Title: Tree Pages: 1 -->\n",
       "<svg width=\"1023pt\" height=\"477pt\"\n",
       " viewBox=\"0.00 0.00 1023.00 477.00\" xmlns=\"http://www.w3.org/2000/svg\" xmlns:xlink=\"http://www.w3.org/1999/xlink\">\n",
       "<g id=\"graph0\" class=\"graph\" transform=\"scale(1 1) rotate(0) translate(4 473)\">\n",
       "<title>Tree</title>\n",
       "<polygon fill=\"#ffffff\" stroke=\"transparent\" points=\"-4,4 -4,-473 1019,-473 1019,4 -4,4\"/>\n",
       "<!-- 0 -->\n",
       "<g id=\"node1\" class=\"node\">\n",
       "<title>0</title>\n",
       "<polygon fill=\"#399de5\" fill-opacity=\"0.403922\" stroke=\"#000000\" points=\"636,-469 491,-469 491,-401 636,-401 636,-469\"/>\n",
       "<text text-anchor=\"middle\" x=\"563.5\" y=\"-453.8\" font-family=\"Times,serif\" font-size=\"14.00\" fill=\"#000000\">worst radius &lt;= 16.795</text>\n",
       "<text text-anchor=\"middle\" x=\"563.5\" y=\"-438.8\" font-family=\"Times,serif\" font-size=\"14.00\" fill=\"#000000\">samples = 426</text>\n",
       "<text text-anchor=\"middle\" x=\"563.5\" y=\"-423.8\" font-family=\"Times,serif\" font-size=\"14.00\" fill=\"#000000\">value = [159, 267]</text>\n",
       "<text text-anchor=\"middle\" x=\"563.5\" y=\"-408.8\" font-family=\"Times,serif\" font-size=\"14.00\" fill=\"#000000\">class = benign</text>\n",
       "</g>\n",
       "<!-- 1 -->\n",
       "<g id=\"node2\" class=\"node\">\n",
       "<title>1</title>\n",
       "<polygon fill=\"#399de5\" fill-opacity=\"0.901961\" stroke=\"#000000\" points=\"546.5,-365 360.5,-365 360.5,-297 546.5,-297 546.5,-365\"/>\n",
       "<text text-anchor=\"middle\" x=\"453.5\" y=\"-349.8\" font-family=\"Times,serif\" font-size=\"14.00\" fill=\"#000000\">worst concave points &lt;= 0.136</text>\n",
       "<text text-anchor=\"middle\" x=\"453.5\" y=\"-334.8\" font-family=\"Times,serif\" font-size=\"14.00\" fill=\"#000000\">samples = 284</text>\n",
       "<text text-anchor=\"middle\" x=\"453.5\" y=\"-319.8\" font-family=\"Times,serif\" font-size=\"14.00\" fill=\"#000000\">value = [25, 259]</text>\n",
       "<text text-anchor=\"middle\" x=\"453.5\" y=\"-304.8\" font-family=\"Times,serif\" font-size=\"14.00\" fill=\"#000000\">class = benign</text>\n",
       "</g>\n",
       "<!-- 0&#45;&gt;1 -->\n",
       "<g id=\"edge1\" class=\"edge\">\n",
       "<title>0&#45;&gt;1</title>\n",
       "<path fill=\"none\" stroke=\"#000000\" d=\"M527.4819,-400.9465C517.7954,-391.7884 507.2136,-381.7838 497.1603,-372.2788\"/>\n",
       "<polygon fill=\"#000000\" stroke=\"#000000\" points=\"499.2701,-369.4569 489.599,-365.13 494.461,-374.5434 499.2701,-369.4569\"/>\n",
       "<text text-anchor=\"middle\" x=\"490.2997\" y=\"-386.4202\" font-family=\"Times,serif\" font-size=\"14.00\" fill=\"#000000\">True</text>\n",
       "</g>\n",
       "<!-- 14 -->\n",
       "<g id=\"node15\" class=\"node\">\n",
       "<title>14</title>\n",
       "<polygon fill=\"#e58139\" fill-opacity=\"0.941176\" stroke=\"#000000\" points=\"714,-365 575,-365 575,-297 714,-297 714,-365\"/>\n",
       "<text text-anchor=\"middle\" x=\"644.5\" y=\"-349.8\" font-family=\"Times,serif\" font-size=\"14.00\" fill=\"#000000\">texture error &lt;= 0.473</text>\n",
       "<text text-anchor=\"middle\" x=\"644.5\" y=\"-334.8\" font-family=\"Times,serif\" font-size=\"14.00\" fill=\"#000000\">samples = 142</text>\n",
       "<text text-anchor=\"middle\" x=\"644.5\" y=\"-319.8\" font-family=\"Times,serif\" font-size=\"14.00\" fill=\"#000000\">value = [134, 8]</text>\n",
       "<text text-anchor=\"middle\" x=\"644.5\" y=\"-304.8\" font-family=\"Times,serif\" font-size=\"14.00\" fill=\"#000000\">class = malignant</text>\n",
       "</g>\n",
       "<!-- 0&#45;&gt;14 -->\n",
       "<g id=\"edge14\" class=\"edge\">\n",
       "<title>0&#45;&gt;14</title>\n",
       "<path fill=\"none\" stroke=\"#000000\" d=\"M590.0224,-400.9465C596.9454,-392.0578 604.4894,-382.3716 611.696,-373.1188\"/>\n",
       "<polygon fill=\"#000000\" stroke=\"#000000\" points=\"614.5346,-375.1701 617.918,-365.13 609.012,-370.8688 614.5346,-375.1701\"/>\n",
       "<text text-anchor=\"middle\" x=\"621.0023\" y=\"-386.239\" font-family=\"Times,serif\" font-size=\"14.00\" fill=\"#000000\">False</text>\n",
       "</g>\n",
       "<!-- 2 -->\n",
       "<g id=\"node3\" class=\"node\">\n",
       "<title>2</title>\n",
       "<polygon fill=\"#399de5\" fill-opacity=\"0.984314\" stroke=\"#000000\" points=\"351.5,-261 217.5,-261 217.5,-193 351.5,-193 351.5,-261\"/>\n",
       "<text text-anchor=\"middle\" x=\"284.5\" y=\"-245.8\" font-family=\"Times,serif\" font-size=\"14.00\" fill=\"#000000\">radius error &lt;= 1.048</text>\n",
       "<text text-anchor=\"middle\" x=\"284.5\" y=\"-230.8\" font-family=\"Times,serif\" font-size=\"14.00\" fill=\"#000000\">samples = 252</text>\n",
       "<text text-anchor=\"middle\" x=\"284.5\" y=\"-215.8\" font-family=\"Times,serif\" font-size=\"14.00\" fill=\"#000000\">value = [4, 248]</text>\n",
       "<text text-anchor=\"middle\" x=\"284.5\" y=\"-200.8\" font-family=\"Times,serif\" font-size=\"14.00\" fill=\"#000000\">class = benign</text>\n",
       "</g>\n",
       "<!-- 1&#45;&gt;2 -->\n",
       "<g id=\"edge2\" class=\"edge\">\n",
       "<title>1&#45;&gt;2</title>\n",
       "<path fill=\"none\" stroke=\"#000000\" d=\"M398.1631,-296.9465C382.4058,-287.2497 365.1063,-276.6039 348.8613,-266.6069\"/>\n",
       "<polygon fill=\"#000000\" stroke=\"#000000\" points=\"350.3122,-263.3902 339.9612,-261.13 346.6435,-269.3518 350.3122,-263.3902\"/>\n",
       "</g>\n",
       "<!-- 7 -->\n",
       "<g id=\"node8\" class=\"node\">\n",
       "<title>7</title>\n",
       "<polygon fill=\"#e58139\" fill-opacity=\"0.474510\" stroke=\"#000000\" points=\"525,-261 382,-261 382,-193 525,-193 525,-261\"/>\n",
       "<text text-anchor=\"middle\" x=\"453.5\" y=\"-245.8\" font-family=\"Times,serif\" font-size=\"14.00\" fill=\"#000000\">worst texture &lt;= 25.62</text>\n",
       "<text text-anchor=\"middle\" x=\"453.5\" y=\"-230.8\" font-family=\"Times,serif\" font-size=\"14.00\" fill=\"#000000\">samples = 32</text>\n",
       "<text text-anchor=\"middle\" x=\"453.5\" y=\"-215.8\" font-family=\"Times,serif\" font-size=\"14.00\" fill=\"#000000\">value = [21, 11]</text>\n",
       "<text text-anchor=\"middle\" x=\"453.5\" y=\"-200.8\" font-family=\"Times,serif\" font-size=\"14.00\" fill=\"#000000\">class = malignant</text>\n",
       "</g>\n",
       "<!-- 1&#45;&gt;7 -->\n",
       "<g id=\"edge7\" class=\"edge\">\n",
       "<title>1&#45;&gt;7</title>\n",
       "<path fill=\"none\" stroke=\"#000000\" d=\"M453.5,-296.9465C453.5,-288.776 453.5,-279.9318 453.5,-271.3697\"/>\n",
       "<polygon fill=\"#000000\" stroke=\"#000000\" points=\"457.0001,-271.13 453.5,-261.13 450.0001,-271.13 457.0001,-271.13\"/>\n",
       "</g>\n",
       "<!-- 3 -->\n",
       "<g id=\"node4\" class=\"node\">\n",
       "<title>3</title>\n",
       "<polygon fill=\"#399de5\" fill-opacity=\"0.988235\" stroke=\"#000000\" points=\"210,-157 45,-157 45,-89 210,-89 210,-157\"/>\n",
       "<text text-anchor=\"middle\" x=\"127.5\" y=\"-141.8\" font-family=\"Times,serif\" font-size=\"14.00\" fill=\"#000000\">smoothness error &lt;= 0.003</text>\n",
       "<text text-anchor=\"middle\" x=\"127.5\" y=\"-126.8\" font-family=\"Times,serif\" font-size=\"14.00\" fill=\"#000000\">samples = 251</text>\n",
       "<text text-anchor=\"middle\" x=\"127.5\" y=\"-111.8\" font-family=\"Times,serif\" font-size=\"14.00\" fill=\"#000000\">value = [3, 248]</text>\n",
       "<text text-anchor=\"middle\" x=\"127.5\" y=\"-96.8\" font-family=\"Times,serif\" font-size=\"14.00\" fill=\"#000000\">class = benign</text>\n",
       "</g>\n",
       "<!-- 2&#45;&gt;3 -->\n",
       "<g id=\"edge3\" class=\"edge\">\n",
       "<title>2&#45;&gt;3</title>\n",
       "<path fill=\"none\" stroke=\"#000000\" d=\"M233.0923,-192.9465C218.5894,-183.3395 202.6802,-172.8009 187.7107,-162.8848\"/>\n",
       "<polygon fill=\"#000000\" stroke=\"#000000\" points=\"189.2929,-159.7346 179.0232,-157.13 185.4271,-165.5704 189.2929,-159.7346\"/>\n",
       "</g>\n",
       "<!-- 6 -->\n",
       "<g id=\"node7\" class=\"node\">\n",
       "<title>6</title>\n",
       "<polygon fill=\"#e58139\" stroke=\"#000000\" points=\"341,-149.5 228,-149.5 228,-96.5 341,-96.5 341,-149.5\"/>\n",
       "<text text-anchor=\"middle\" x=\"284.5\" y=\"-134.3\" font-family=\"Times,serif\" font-size=\"14.00\" fill=\"#000000\">samples = 1</text>\n",
       "<text text-anchor=\"middle\" x=\"284.5\" y=\"-119.3\" font-family=\"Times,serif\" font-size=\"14.00\" fill=\"#000000\">value = [1, 0]</text>\n",
       "<text text-anchor=\"middle\" x=\"284.5\" y=\"-104.3\" font-family=\"Times,serif\" font-size=\"14.00\" fill=\"#000000\">class = malignant</text>\n",
       "</g>\n",
       "<!-- 2&#45;&gt;6 -->\n",
       "<g id=\"edge6\" class=\"edge\">\n",
       "<title>2&#45;&gt;6</title>\n",
       "<path fill=\"none\" stroke=\"#000000\" d=\"M284.5,-192.9465C284.5,-182.2621 284.5,-170.4254 284.5,-159.5742\"/>\n",
       "<polygon fill=\"#000000\" stroke=\"#000000\" points=\"288.0001,-159.5421 284.5,-149.5422 281.0001,-159.5422 288.0001,-159.5421\"/>\n",
       "</g>\n",
       "<!-- 4 -->\n",
       "<g id=\"node5\" class=\"node\">\n",
       "<title>4</title>\n",
       "<polygon fill=\"#399de5\" fill-opacity=\"0.666667\" stroke=\"#000000\" points=\"95,-53 0,-53 0,0 95,0 95,-53\"/>\n",
       "<text text-anchor=\"middle\" x=\"47.5\" y=\"-37.8\" font-family=\"Times,serif\" font-size=\"14.00\" fill=\"#000000\">samples = 4</text>\n",
       "<text text-anchor=\"middle\" x=\"47.5\" y=\"-22.8\" font-family=\"Times,serif\" font-size=\"14.00\" fill=\"#000000\">value = [1, 3]</text>\n",
       "<text text-anchor=\"middle\" x=\"47.5\" y=\"-7.8\" font-family=\"Times,serif\" font-size=\"14.00\" fill=\"#000000\">class = benign</text>\n",
       "</g>\n",
       "<!-- 3&#45;&gt;4 -->\n",
       "<g id=\"edge4\" class=\"edge\">\n",
       "<title>3&#45;&gt;4</title>\n",
       "<path fill=\"none\" stroke=\"#000000\" d=\"M99.295,-88.9777C91.7796,-79.9123 83.6542,-70.111 76.117,-61.0192\"/>\n",
       "<polygon fill=\"#000000\" stroke=\"#000000\" points=\"78.7516,-58.7133 69.6749,-53.2485 73.3626,-63.1808 78.7516,-58.7133\"/>\n",
       "</g>\n",
       "<!-- 5 -->\n",
       "<g id=\"node6\" class=\"node\">\n",
       "<title>5</title>\n",
       "<polygon fill=\"#399de5\" fill-opacity=\"0.992157\" stroke=\"#000000\" points=\"218,-53 113,-53 113,0 218,0 218,-53\"/>\n",
       "<text text-anchor=\"middle\" x=\"165.5\" y=\"-37.8\" font-family=\"Times,serif\" font-size=\"14.00\" fill=\"#000000\">samples = 247</text>\n",
       "<text text-anchor=\"middle\" x=\"165.5\" y=\"-22.8\" font-family=\"Times,serif\" font-size=\"14.00\" fill=\"#000000\">value = [2, 245]</text>\n",
       "<text text-anchor=\"middle\" x=\"165.5\" y=\"-7.8\" font-family=\"Times,serif\" font-size=\"14.00\" fill=\"#000000\">class = benign</text>\n",
       "</g>\n",
       "<!-- 3&#45;&gt;5 -->\n",
       "<g id=\"edge5\" class=\"edge\">\n",
       "<title>3&#45;&gt;5</title>\n",
       "<path fill=\"none\" stroke=\"#000000\" d=\"M140.8974,-88.9777C144.2508,-80.4617 147.86,-71.2963 151.253,-62.6798\"/>\n",
       "<polygon fill=\"#000000\" stroke=\"#000000\" points=\"154.5595,-63.8355 154.9669,-53.2485 148.0463,-61.2707 154.5595,-63.8355\"/>\n",
       "</g>\n",
       "<!-- 8 -->\n",
       "<g id=\"node9\" class=\"node\">\n",
       "<title>8</title>\n",
       "<polygon fill=\"#399de5\" fill-opacity=\"0.666667\" stroke=\"#000000\" points=\"528,-157 359,-157 359,-89 528,-89 528,-157\"/>\n",
       "<text text-anchor=\"middle\" x=\"443.5\" y=\"-141.8\" font-family=\"Times,serif\" font-size=\"14.00\" fill=\"#000000\">worst smoothness &lt;= 0.179</text>\n",
       "<text text-anchor=\"middle\" x=\"443.5\" y=\"-126.8\" font-family=\"Times,serif\" font-size=\"14.00\" fill=\"#000000\">samples = 12</text>\n",
       "<text text-anchor=\"middle\" x=\"443.5\" y=\"-111.8\" font-family=\"Times,serif\" font-size=\"14.00\" fill=\"#000000\">value = [3, 9]</text>\n",
       "<text text-anchor=\"middle\" x=\"443.5\" y=\"-96.8\" font-family=\"Times,serif\" font-size=\"14.00\" fill=\"#000000\">class = benign</text>\n",
       "</g>\n",
       "<!-- 7&#45;&gt;8 -->\n",
       "<g id=\"edge8\" class=\"edge\">\n",
       "<title>7&#45;&gt;8</title>\n",
       "<path fill=\"none\" stroke=\"#000000\" d=\"M450.2256,-192.9465C449.4314,-184.6863 448.5709,-175.7374 447.7392,-167.0875\"/>\n",
       "<polygon fill=\"#000000\" stroke=\"#000000\" points=\"451.2229,-166.7491 446.7817,-157.13 444.255,-167.4191 451.2229,-166.7491\"/>\n",
       "</g>\n",
       "<!-- 11 -->\n",
       "<g id=\"node12\" class=\"node\">\n",
       "<title>11</title>\n",
       "<polygon fill=\"#e58139\" fill-opacity=\"0.890196\" stroke=\"#000000\" points=\"707,-157 546,-157 546,-89 707,-89 707,-157\"/>\n",
       "<text text-anchor=\"middle\" x=\"626.5\" y=\"-141.8\" font-family=\"Times,serif\" font-size=\"14.00\" fill=\"#000000\">worst symmetry &lt;= 0.268</text>\n",
       "<text text-anchor=\"middle\" x=\"626.5\" y=\"-126.8\" font-family=\"Times,serif\" font-size=\"14.00\" fill=\"#000000\">samples = 20</text>\n",
       "<text text-anchor=\"middle\" x=\"626.5\" y=\"-111.8\" font-family=\"Times,serif\" font-size=\"14.00\" fill=\"#000000\">value = [18, 2]</text>\n",
       "<text text-anchor=\"middle\" x=\"626.5\" y=\"-96.8\" font-family=\"Times,serif\" font-size=\"14.00\" fill=\"#000000\">class = malignant</text>\n",
       "</g>\n",
       "<!-- 7&#45;&gt;11 -->\n",
       "<g id=\"edge11\" class=\"edge\">\n",
       "<title>7&#45;&gt;11</title>\n",
       "<path fill=\"none\" stroke=\"#000000\" d=\"M510.1467,-192.9465C526.4263,-183.1599 544.314,-172.4066 561.077,-162.3294\"/>\n",
       "<polygon fill=\"#000000\" stroke=\"#000000\" points=\"562.9588,-165.282 569.7261,-157.13 559.3522,-159.2826 562.9588,-165.282\"/>\n",
       "</g>\n",
       "<!-- 9 -->\n",
       "<g id=\"node10\" class=\"node\">\n",
       "<title>9</title>\n",
       "<polygon fill=\"#399de5\" fill-opacity=\"0.890196\" stroke=\"#000000\" points=\"369,-53 274,-53 274,0 369,0 369,-53\"/>\n",
       "<text text-anchor=\"middle\" x=\"321.5\" y=\"-37.8\" font-family=\"Times,serif\" font-size=\"14.00\" fill=\"#000000\">samples = 10</text>\n",
       "<text text-anchor=\"middle\" x=\"321.5\" y=\"-22.8\" font-family=\"Times,serif\" font-size=\"14.00\" fill=\"#000000\">value = [1, 9]</text>\n",
       "<text text-anchor=\"middle\" x=\"321.5\" y=\"-7.8\" font-family=\"Times,serif\" font-size=\"14.00\" fill=\"#000000\">class = benign</text>\n",
       "</g>\n",
       "<!-- 8&#45;&gt;9 -->\n",
       "<g id=\"edge9\" class=\"edge\">\n",
       "<title>8&#45;&gt;9</title>\n",
       "<path fill=\"none\" stroke=\"#000000\" d=\"M400.4874,-88.9777C388.4476,-79.4545 375.3812,-69.1191 363.4065,-59.6473\"/>\n",
       "<polygon fill=\"#000000\" stroke=\"#000000\" points=\"365.3311,-56.7072 355.3167,-53.2485 360.9885,-62.1973 365.3311,-56.7072\"/>\n",
       "</g>\n",
       "<!-- 10 -->\n",
       "<g id=\"node11\" class=\"node\">\n",
       "<title>10</title>\n",
       "<polygon fill=\"#e58139\" stroke=\"#000000\" points=\"500,-53 387,-53 387,0 500,0 500,-53\"/>\n",
       "<text text-anchor=\"middle\" x=\"443.5\" y=\"-37.8\" font-family=\"Times,serif\" font-size=\"14.00\" fill=\"#000000\">samples = 2</text>\n",
       "<text text-anchor=\"middle\" x=\"443.5\" y=\"-22.8\" font-family=\"Times,serif\" font-size=\"14.00\" fill=\"#000000\">value = [2, 0]</text>\n",
       "<text text-anchor=\"middle\" x=\"443.5\" y=\"-7.8\" font-family=\"Times,serif\" font-size=\"14.00\" fill=\"#000000\">class = malignant</text>\n",
       "</g>\n",
       "<!-- 8&#45;&gt;10 -->\n",
       "<g id=\"edge10\" class=\"edge\">\n",
       "<title>8&#45;&gt;10</title>\n",
       "<path fill=\"none\" stroke=\"#000000\" d=\"M443.5,-88.9777C443.5,-80.7364 443.5,-71.887 443.5,-63.5153\"/>\n",
       "<polygon fill=\"#000000\" stroke=\"#000000\" points=\"447.0001,-63.2484 443.5,-53.2485 440.0001,-63.2485 447.0001,-63.2484\"/>\n",
       "</g>\n",
       "<!-- 12 -->\n",
       "<g id=\"node13\" class=\"node\">\n",
       "<title>12</title>\n",
       "<polygon fill=\"#399de5\" fill-opacity=\"0.498039\" stroke=\"#000000\" points=\"613,-53 518,-53 518,0 613,0 613,-53\"/>\n",
       "<text text-anchor=\"middle\" x=\"565.5\" y=\"-37.8\" font-family=\"Times,serif\" font-size=\"14.00\" fill=\"#000000\">samples = 3</text>\n",
       "<text text-anchor=\"middle\" x=\"565.5\" y=\"-22.8\" font-family=\"Times,serif\" font-size=\"14.00\" fill=\"#000000\">value = [1, 2]</text>\n",
       "<text text-anchor=\"middle\" x=\"565.5\" y=\"-7.8\" font-family=\"Times,serif\" font-size=\"14.00\" fill=\"#000000\">class = benign</text>\n",
       "</g>\n",
       "<!-- 11&#45;&gt;12 -->\n",
       "<g id=\"edge12\" class=\"edge\">\n",
       "<title>11&#45;&gt;12</title>\n",
       "<path fill=\"none\" stroke=\"#000000\" d=\"M604.9937,-88.9777C599.4369,-80.187 593.4427,-70.7044 587.8441,-61.8477\"/>\n",
       "<polygon fill=\"#000000\" stroke=\"#000000\" points=\"590.7101,-59.8312 582.4084,-53.2485 584.7931,-63.5714 590.7101,-59.8312\"/>\n",
       "</g>\n",
       "<!-- 13 -->\n",
       "<g id=\"node14\" class=\"node\">\n",
       "<title>13</title>\n",
       "<polygon fill=\"#e58139\" stroke=\"#000000\" points=\"744,-53 631,-53 631,0 744,0 744,-53\"/>\n",
       "<text text-anchor=\"middle\" x=\"687.5\" y=\"-37.8\" font-family=\"Times,serif\" font-size=\"14.00\" fill=\"#000000\">samples = 17</text>\n",
       "<text text-anchor=\"middle\" x=\"687.5\" y=\"-22.8\" font-family=\"Times,serif\" font-size=\"14.00\" fill=\"#000000\">value = [17, 0]</text>\n",
       "<text text-anchor=\"middle\" x=\"687.5\" y=\"-7.8\" font-family=\"Times,serif\" font-size=\"14.00\" fill=\"#000000\">class = malignant</text>\n",
       "</g>\n",
       "<!-- 11&#45;&gt;13 -->\n",
       "<g id=\"edge13\" class=\"edge\">\n",
       "<title>11&#45;&gt;13</title>\n",
       "<path fill=\"none\" stroke=\"#000000\" d=\"M648.0063,-88.9777C653.5631,-80.187 659.5573,-70.7044 665.1559,-61.8477\"/>\n",
       "<polygon fill=\"#000000\" stroke=\"#000000\" points=\"668.2069,-63.5714 670.5916,-53.2485 662.2899,-59.8312 668.2069,-63.5714\"/>\n",
       "</g>\n",
       "<!-- 15 -->\n",
       "<g id=\"node16\" class=\"node\">\n",
       "<title>15</title>\n",
       "<polygon fill=\"#399de5\" stroke=\"#000000\" points=\"692,-253.5 597,-253.5 597,-200.5 692,-200.5 692,-253.5\"/>\n",
       "<text text-anchor=\"middle\" x=\"644.5\" y=\"-238.3\" font-family=\"Times,serif\" font-size=\"14.00\" fill=\"#000000\">samples = 5</text>\n",
       "<text text-anchor=\"middle\" x=\"644.5\" y=\"-223.3\" font-family=\"Times,serif\" font-size=\"14.00\" fill=\"#000000\">value = [0, 5]</text>\n",
       "<text text-anchor=\"middle\" x=\"644.5\" y=\"-208.3\" font-family=\"Times,serif\" font-size=\"14.00\" fill=\"#000000\">class = benign</text>\n",
       "</g>\n",
       "<!-- 14&#45;&gt;15 -->\n",
       "<g id=\"edge15\" class=\"edge\">\n",
       "<title>14&#45;&gt;15</title>\n",
       "<path fill=\"none\" stroke=\"#000000\" d=\"M644.5,-296.9465C644.5,-286.2621 644.5,-274.4254 644.5,-263.5742\"/>\n",
       "<polygon fill=\"#000000\" stroke=\"#000000\" points=\"648.0001,-263.5421 644.5,-253.5422 641.0001,-263.5422 648.0001,-263.5421\"/>\n",
       "</g>\n",
       "<!-- 16 -->\n",
       "<g id=\"node17\" class=\"node\">\n",
       "<title>16</title>\n",
       "<polygon fill=\"#e58139\" fill-opacity=\"0.976471\" stroke=\"#000000\" points=\"888.5,-261 730.5,-261 730.5,-193 888.5,-193 888.5,-261\"/>\n",
       "<text text-anchor=\"middle\" x=\"809.5\" y=\"-245.8\" font-family=\"Times,serif\" font-size=\"14.00\" fill=\"#000000\">worst concavity &lt;= 0.191</text>\n",
       "<text text-anchor=\"middle\" x=\"809.5\" y=\"-230.8\" font-family=\"Times,serif\" font-size=\"14.00\" fill=\"#000000\">samples = 137</text>\n",
       "<text text-anchor=\"middle\" x=\"809.5\" y=\"-215.8\" font-family=\"Times,serif\" font-size=\"14.00\" fill=\"#000000\">value = [134, 3]</text>\n",
       "<text text-anchor=\"middle\" x=\"809.5\" y=\"-200.8\" font-family=\"Times,serif\" font-size=\"14.00\" fill=\"#000000\">class = malignant</text>\n",
       "</g>\n",
       "<!-- 14&#45;&gt;16 -->\n",
       "<g id=\"edge16\" class=\"edge\">\n",
       "<title>14&#45;&gt;16</title>\n",
       "<path fill=\"none\" stroke=\"#000000\" d=\"M698.5272,-296.9465C713.9115,-287.2497 730.8016,-276.6039 746.6621,-266.6069\"/>\n",
       "<polygon fill=\"#000000\" stroke=\"#000000\" points=\"748.758,-269.4232 755.3514,-261.13 745.0254,-263.5013 748.758,-269.4232\"/>\n",
       "</g>\n",
       "<!-- 17 -->\n",
       "<g id=\"node18\" class=\"node\">\n",
       "<title>17</title>\n",
       "<polygon fill=\"#399de5\" fill-opacity=\"0.333333\" stroke=\"#000000\" points=\"884,-157 735,-157 735,-89 884,-89 884,-157\"/>\n",
       "<text text-anchor=\"middle\" x=\"809.5\" y=\"-141.8\" font-family=\"Times,serif\" font-size=\"14.00\" fill=\"#000000\">worst texture &lt;= 30.975</text>\n",
       "<text text-anchor=\"middle\" x=\"809.5\" y=\"-126.8\" font-family=\"Times,serif\" font-size=\"14.00\" fill=\"#000000\">samples = 5</text>\n",
       "<text text-anchor=\"middle\" x=\"809.5\" y=\"-111.8\" font-family=\"Times,serif\" font-size=\"14.00\" fill=\"#000000\">value = [2, 3]</text>\n",
       "<text text-anchor=\"middle\" x=\"809.5\" y=\"-96.8\" font-family=\"Times,serif\" font-size=\"14.00\" fill=\"#000000\">class = benign</text>\n",
       "</g>\n",
       "<!-- 16&#45;&gt;17 -->\n",
       "<g id=\"edge17\" class=\"edge\">\n",
       "<title>16&#45;&gt;17</title>\n",
       "<path fill=\"none\" stroke=\"#000000\" d=\"M809.5,-192.9465C809.5,-184.776 809.5,-175.9318 809.5,-167.3697\"/>\n",
       "<polygon fill=\"#000000\" stroke=\"#000000\" points=\"813.0001,-167.13 809.5,-157.13 806.0001,-167.13 813.0001,-167.13\"/>\n",
       "</g>\n",
       "<!-- 20 -->\n",
       "<g id=\"node21\" class=\"node\">\n",
       "<title>20</title>\n",
       "<polygon fill=\"#e58139\" stroke=\"#000000\" points=\"1015,-149.5 902,-149.5 902,-96.5 1015,-96.5 1015,-149.5\"/>\n",
       "<text text-anchor=\"middle\" x=\"958.5\" y=\"-134.3\" font-family=\"Times,serif\" font-size=\"14.00\" fill=\"#000000\">samples = 132</text>\n",
       "<text text-anchor=\"middle\" x=\"958.5\" y=\"-119.3\" font-family=\"Times,serif\" font-size=\"14.00\" fill=\"#000000\">value = [132, 0]</text>\n",
       "<text text-anchor=\"middle\" x=\"958.5\" y=\"-104.3\" font-family=\"Times,serif\" font-size=\"14.00\" fill=\"#000000\">class = malignant</text>\n",
       "</g>\n",
       "<!-- 16&#45;&gt;20 -->\n",
       "<g id=\"edge20\" class=\"edge\">\n",
       "<title>16&#45;&gt;20</title>\n",
       "<path fill=\"none\" stroke=\"#000000\" d=\"M858.2882,-192.9465C875.6472,-180.8301 895.1291,-167.232 912.2676,-155.2696\"/>\n",
       "<polygon fill=\"#000000\" stroke=\"#000000\" points=\"914.2764,-158.1358 920.4732,-149.5422 910.2699,-152.3957 914.2764,-158.1358\"/>\n",
       "</g>\n",
       "<!-- 18 -->\n",
       "<g id=\"node19\" class=\"node\">\n",
       "<title>18</title>\n",
       "<polygon fill=\"#399de5\" stroke=\"#000000\" points=\"857,-53 762,-53 762,0 857,0 857,-53\"/>\n",
       "<text text-anchor=\"middle\" x=\"809.5\" y=\"-37.8\" font-family=\"Times,serif\" font-size=\"14.00\" fill=\"#000000\">samples = 3</text>\n",
       "<text text-anchor=\"middle\" x=\"809.5\" y=\"-22.8\" font-family=\"Times,serif\" font-size=\"14.00\" fill=\"#000000\">value = [0, 3]</text>\n",
       "<text text-anchor=\"middle\" x=\"809.5\" y=\"-7.8\" font-family=\"Times,serif\" font-size=\"14.00\" fill=\"#000000\">class = benign</text>\n",
       "</g>\n",
       "<!-- 17&#45;&gt;18 -->\n",
       "<g id=\"edge18\" class=\"edge\">\n",
       "<title>17&#45;&gt;18</title>\n",
       "<path fill=\"none\" stroke=\"#000000\" d=\"M809.5,-88.9777C809.5,-80.7364 809.5,-71.887 809.5,-63.5153\"/>\n",
       "<polygon fill=\"#000000\" stroke=\"#000000\" points=\"813.0001,-63.2484 809.5,-53.2485 806.0001,-63.2485 813.0001,-63.2484\"/>\n",
       "</g>\n",
       "<!-- 19 -->\n",
       "<g id=\"node20\" class=\"node\">\n",
       "<title>19</title>\n",
       "<polygon fill=\"#e58139\" stroke=\"#000000\" points=\"988,-53 875,-53 875,0 988,0 988,-53\"/>\n",
       "<text text-anchor=\"middle\" x=\"931.5\" y=\"-37.8\" font-family=\"Times,serif\" font-size=\"14.00\" fill=\"#000000\">samples = 2</text>\n",
       "<text text-anchor=\"middle\" x=\"931.5\" y=\"-22.8\" font-family=\"Times,serif\" font-size=\"14.00\" fill=\"#000000\">value = [2, 0]</text>\n",
       "<text text-anchor=\"middle\" x=\"931.5\" y=\"-7.8\" font-family=\"Times,serif\" font-size=\"14.00\" fill=\"#000000\">class = malignant</text>\n",
       "</g>\n",
       "<!-- 17&#45;&gt;19 -->\n",
       "<g id=\"edge19\" class=\"edge\">\n",
       "<title>17&#45;&gt;19</title>\n",
       "<path fill=\"none\" stroke=\"#000000\" d=\"M852.5126,-88.9777C864.5524,-79.4545 877.6188,-69.1191 889.5935,-59.6473\"/>\n",
       "<polygon fill=\"#000000\" stroke=\"#000000\" points=\"892.0115,-62.1973 897.6833,-53.2485 887.6689,-56.7072 892.0115,-62.1973\"/>\n",
       "</g>\n",
       "</g>\n",
       "</svg>\n"
      ],
      "text/plain": [
       "<graphviz.files.Source at 0x7f72d74f84a8>"
      ]
     },
     "metadata": {},
     "output_type": "display_data"
    }
   ],
   "source": [
    "import graphviz\n",
    "\n",
    "with open(\"tree.dot\") as f:\n",
    "    dot_graph = f.read()\n",
    "display(graphviz.Source(dot_graph))"
   ]
  },
  {
   "cell_type": "markdown",
   "metadata": {},
   "source": [
    "The visualization of the tree provides a great in-depth view of how the algorithm makes predictions.  This makes it a good example of a machine learning algorithm that is easily explained to non-experts.  "
   ]
  },
  {
   "cell_type": "markdown",
   "metadata": {},
   "source": [
    "### Feature Importance in Trees"
   ]
  },
  {
   "cell_type": "markdown",
   "metadata": {},
   "source": [
    "Instead of looking at the whole tree, which can be taxing, there are some useful properties that we can derive to summarize the workings of the tree.  \n",
    "\n",
    "The most commonly used summary is *feature importance*, which rates how important each feature is for the decision a tree makes.  It is a number between 0 and 1 for each feature, where 0 means \"not used at all\" and 1 means \"perfectly predicts the target\".  The feature importances always sum to 1."
   ]
  },
  {
   "cell_type": "code",
   "execution_count": 8,
   "metadata": {},
   "outputs": [
    {
     "name": "stdout",
     "output_type": "stream",
     "text": [
      "Feature importances:\n",
      "[0.         0.         0.         0.         0.         0.\n",
      " 0.         0.         0.         0.         0.01019737 0.04839825\n",
      " 0.         0.         0.0024156  0.         0.         0.\n",
      " 0.         0.         0.72682851 0.0458159  0.         0.\n",
      " 0.0141577  0.         0.018188   0.1221132  0.01188548 0.        ]\n"
     ]
    }
   ],
   "source": [
    "print(\"Feature importances:\")\n",
    "print(tree.feature_importances_)"
   ]
  },
  {
   "cell_type": "markdown",
   "metadata": {},
   "source": [
    "We can visualize the feature importances in a way that is similar to the way we visualize the coefficients in the linear model."
   ]
  },
  {
   "cell_type": "code",
   "execution_count": 9,
   "metadata": {},
   "outputs": [
    {
     "data": {
      "image/png": "[encoded data removed]",
      "text/plain": [
       "<Figure size 432x288 with 1 Axes>"
      ]
     },
     "metadata": {
      "needs_background": "light"
     },
     "output_type": "display_data"
    }
   ],
   "source": [
    "def plot_feature_importances_cancer(model):\n",
    "    n_features = cancer.data.shape[1]\n",
    "    plt.barh(np.arange(n_features), model.feature_importances_, align='center')\n",
    "    plt.yticks(np.arange(n_features), cancer.feature_names)\n",
    "    plt.xlabel(\"Feature importance\")\n",
    "    plt.ylabel(\"Feature\")\n",
    "    plt.ylim(-1, n_features)\n",
    "    \n",
    "plot_feature_importances_cancer(tree)"
   ]
  },
  {
   "cell_type": "markdown",
   "metadata": {},
   "source": [
    "Here, we see that the feature used in the top split (*worst radius*) is by far the most important feature.  \n",
    "\n",
    "Note that just because a feature has a low value in *feature_importance_*, it doesn't mean that this feature is uninformative.  It only means the feature was not picked by the tree, likely because another feature encodes the same information.\n",
    "\n",
    "The feature importances tell us that *worst radius* is important, but not whether a high radius is indicative of a sample being benign or malignant.  In fact, there might not be such a simple relationship between features and a class, as we can see in this example:"
   ]
  },
  {
   "cell_type": "code",
   "execution_count": 10,
   "metadata": {},
   "outputs": [
    {
     "name": "stdout",
     "output_type": "stream",
     "text": [
      "Feature importances: [0. 1.]\n"
     ]
    },
    {
     "data": {
      "image/svg+xml": [
       "<?xml version=\"1.0\" encoding=\"UTF-8\" standalone=\"no\"?>\n",
       "<!DOCTYPE svg PUBLIC \"-//W3C//DTD SVG 1.1//EN\"\n",
       " \"http://www.w3.org/Graphics/SVG/1.1/DTD/svg11.dtd\">\n",
       "<!-- Generated by graphviz version 2.40.1 (20161225.0304)\n",
       " -->\n",
       "<!-- Title: Tree Pages: 1 -->\n",
       "<svg width=\"284pt\" height=\"224pt\"\n",
       " viewBox=\"0.00 0.00 284.00 224.00\" xmlns=\"http://www.w3.org/2000/svg\" xmlns:xlink=\"http://www.w3.org/1999/xlink\">\n",
       "<g id=\"graph0\" class=\"graph\" transform=\"scale(1 1) rotate(0) translate(4 220)\">\n",
       "<title>Tree</title>\n",
       "<polygon fill=\"#ffffff\" stroke=\"transparent\" points=\"-4,4 -4,-220 280,-220 280,4 -4,4\"/>\n",
       "<!-- 0 -->\n",
       "<g id=\"node1\" class=\"node\">\n",
       "<title>0</title>\n",
       "<polygon fill=\"transparent\" stroke=\"#000000\" points=\"161.5,-216 56.5,-216 56.5,-163 161.5,-163 161.5,-216\"/>\n",
       "<text text-anchor=\"middle\" x=\"109\" y=\"-200.8\" font-family=\"Times,serif\" font-size=\"14.00\" fill=\"#000000\">X[1] &lt;= &#45;5.814</text>\n",
       "<text text-anchor=\"middle\" x=\"109\" y=\"-185.8\" font-family=\"Times,serif\" font-size=\"14.00\" fill=\"#000000\">samples = 100</text>\n",
       "<text text-anchor=\"middle\" x=\"109\" y=\"-170.8\" font-family=\"Times,serif\" font-size=\"14.00\" fill=\"#000000\">value = [50, 50]</text>\n",
       "</g>\n",
       "<!-- 1 -->\n",
       "<g id=\"node2\" class=\"node\">\n",
       "<title>1</title>\n",
       "<polygon fill=\"#e58139\" stroke=\"#000000\" points=\"98,-119.5 0,-119.5 0,-81.5 98,-81.5 98,-119.5\"/>\n",
       "<text text-anchor=\"middle\" x=\"49\" y=\"-104.3\" font-family=\"Times,serif\" font-size=\"14.00\" fill=\"#000000\">samples = 25</text>\n",
       "<text text-anchor=\"middle\" x=\"49\" y=\"-89.3\" font-family=\"Times,serif\" font-size=\"14.00\" fill=\"#000000\">value = [25, 0]</text>\n",
       "</g>\n",
       "<!-- 0&#45;&gt;1 -->\n",
       "<g id=\"edge1\" class=\"edge\">\n",
       "<title>0&#45;&gt;1</title>\n",
       "<path fill=\"none\" stroke=\"#000000\" d=\"M90.998,-162.7971C83.5895,-151.8078 75.0123,-139.0849 67.5479,-128.0128\"/>\n",
       "<polygon fill=\"#000000\" stroke=\"#000000\" points=\"70.336,-125.887 61.8439,-119.5518 64.5318,-129.8 70.336,-125.887\"/>\n",
       "<text text-anchor=\"middle\" x=\"57.0677\" y=\"-140.3913\" font-family=\"Times,serif\" font-size=\"14.00\" fill=\"#000000\">True</text>\n",
       "</g>\n",
       "<!-- 2 -->\n",
       "<g id=\"node3\" class=\"node\">\n",
       "<title>2</title>\n",
       "<polygon fill=\"#399de5\" fill-opacity=\"0.498039\" stroke=\"#000000\" points=\"221.5,-127 116.5,-127 116.5,-74 221.5,-74 221.5,-127\"/>\n",
       "<text text-anchor=\"middle\" x=\"169\" y=\"-111.8\" font-family=\"Times,serif\" font-size=\"14.00\" fill=\"#000000\">X[1] &lt;= 5.348</text>\n",
       "<text text-anchor=\"middle\" x=\"169\" y=\"-96.8\" font-family=\"Times,serif\" font-size=\"14.00\" fill=\"#000000\">samples = 75</text>\n",
       "<text text-anchor=\"middle\" x=\"169\" y=\"-81.8\" font-family=\"Times,serif\" font-size=\"14.00\" fill=\"#000000\">value = [25, 50]</text>\n",
       "</g>\n",
       "<!-- 0&#45;&gt;2 -->\n",
       "<g id=\"edge2\" class=\"edge\">\n",
       "<title>0&#45;&gt;2</title>\n",
       "<path fill=\"none\" stroke=\"#000000\" d=\"M127.002,-162.7971C132.7568,-154.2607 139.2169,-144.6782 145.3128,-135.6361\"/>\n",
       "<polygon fill=\"#000000\" stroke=\"#000000\" points=\"148.3229,-137.4323 151.0107,-127.1841 142.5186,-133.5193 148.3229,-137.4323\"/>\n",
       "<text text-anchor=\"middle\" x=\"155.7869\" y=\"-148.0236\" font-family=\"Times,serif\" font-size=\"14.00\" fill=\"#000000\">False</text>\n",
       "</g>\n",
       "<!-- 3 -->\n",
       "<g id=\"node4\" class=\"node\">\n",
       "<title>3</title>\n",
       "<polygon fill=\"#399de5\" stroke=\"#000000\" points=\"160,-38 62,-38 62,0 160,0 160,-38\"/>\n",
       "<text text-anchor=\"middle\" x=\"111\" y=\"-22.8\" font-family=\"Times,serif\" font-size=\"14.00\" fill=\"#000000\">samples = 50</text>\n",
       "<text text-anchor=\"middle\" x=\"111\" y=\"-7.8\" font-family=\"Times,serif\" font-size=\"14.00\" fill=\"#000000\">value = [0, 50]</text>\n",
       "</g>\n",
       "<!-- 2&#45;&gt;3 -->\n",
       "<g id=\"edge3\" class=\"edge\">\n",
       "<title>2&#45;&gt;3</title>\n",
       "<path fill=\"none\" stroke=\"#000000\" d=\"M150.0086,-73.8139C143.8141,-65.1094 136.9251,-55.4292 130.681,-46.6553\"/>\n",
       "<polygon fill=\"#000000\" stroke=\"#000000\" points=\"133.3514,-44.3712 124.7016,-38.2531 127.6482,-48.4299 133.3514,-44.3712\"/>\n",
       "</g>\n",
       "<!-- 4 -->\n",
       "<g id=\"node5\" class=\"node\">\n",
       "<title>4</title>\n",
       "<polygon fill=\"#e58139\" stroke=\"#000000\" points=\"276,-38 178,-38 178,0 276,0 276,-38\"/>\n",
       "<text text-anchor=\"middle\" x=\"227\" y=\"-22.8\" font-family=\"Times,serif\" font-size=\"14.00\" fill=\"#000000\">samples = 25</text>\n",
       "<text text-anchor=\"middle\" x=\"227\" y=\"-7.8\" font-family=\"Times,serif\" font-size=\"14.00\" fill=\"#000000\">value = [25, 0]</text>\n",
       "</g>\n",
       "<!-- 2&#45;&gt;4 -->\n",
       "<g id=\"edge4\" class=\"edge\">\n",
       "<title>2&#45;&gt;4</title>\n",
       "<path fill=\"none\" stroke=\"#000000\" d=\"M187.9914,-73.8139C194.1859,-65.1094 201.0749,-55.4292 207.319,-46.6553\"/>\n",
       "<polygon fill=\"#000000\" stroke=\"#000000\" points=\"210.3518,-48.4299 213.2984,-38.2531 204.6486,-44.3712 210.3518,-48.4299\"/>\n",
       "</g>\n",
       "</g>\n",
       "</svg>\n"
      ],
      "text/plain": [
       "<graphviz.files.Source at 0x7f72ff6d7ba8>"
      ]
     },
     "metadata": {},
     "output_type": "display_data"
    },
    {
     "data": {
      "image/png": "[encoded data removed]",
      "text/plain": [
       "<Figure size 432x288 with 1 Axes>"
      ]
     },
     "metadata": {},
     "output_type": "display_data"
    }
   ],
   "source": [
    "tree = mglearn.plots.plot_tree_not_monotone()\n",
    "display(tree)"
   ]
  },
  {
   "cell_type": "markdown",
   "metadata": {},
   "source": [
    "This plot shows a dataset with 2 features and 2 classes.  Here, all the information is contained in X[1], and X[0] is not used at all.  But, the relation between X[1] and the output class is not monotonous.  So we can't just say that \"a high value of X[1] means class 0, and a low value means class 1\".  "
   ]
  },
  {
   "cell_type": "markdown",
   "metadata": {},
   "source": [
    "### DecisionTreeRegressors"
   ]
  },
  {
   "cell_type": "markdown",
   "metadata": {},
   "source": [
    "The usage and analysis of regression trees is very similar to that of classification trees.  \n",
    "\n",
    "One particular property that is important to understand about regression trees, however, is that tree-based regression models are not able to *extrapolate*, or make predictions outside of the range of the training data."
   ]
  },
  {
   "cell_type": "markdown",
   "metadata": {},
   "source": [
    "Here, we look at the dataset of historical computer memory (RAM) prices."
   ]
  },
  {
   "cell_type": "code",
   "execution_count": 11,
   "metadata": {},
   "outputs": [
    {
     "data": {
      "text/plain": [
       "Text(0, 0.5, 'Price in $/Mbyte')"
      ]
     },
     "execution_count": 11,
     "metadata": {},
     "output_type": "execute_result"
    },
    {
     "data": {
      "image/png": "[encoded data removed]",
      "text/plain": [
       "<Figure size 432x288 with 1 Axes>"
      ]
     },
     "metadata": {
      "needs_background": "light"
     },
     "output_type": "display_data"
    }
   ],
   "source": [
    "import os\n",
    "ram_prices = pd.read_csv(os.path.join(mglearn.datasets.DATA_PATH, \"ram_price.csv\"))\n",
    "\n",
    "plt.semilogy(ram_prices.date, ram_prices.price)\n",
    "plt.xlabel(\"Year\")\n",
    "plt.ylabel(\"Price in $/Mbyte\")"
   ]
  },
  {
   "cell_type": "markdown",
   "metadata": {},
   "source": [
    "Note that with the y-axis on a logarithmic scale, the relation seems to be quite linear.\n",
    "\n",
    "We will make a forecast for the years after 2000 using the historical data up to that point, with the date as our only feature.  We will compare 2 simple models: *DecisionTreeRegressor* and *LinearRegression*.  We rescale the prices using a logarithm so that the relationship is relatively linear.  This actually doesn't make a big difference for the *DecisionTreeRegressor*, but it makes a big difference for *LinearRegression*.\n",
    "\n",
    "After training the models and making predictions, we apply the exponential map to undo the logarithm transform.  We make predictions on the whole dataset for visualization purposes here, but for a quantitative evaluation we would only consider the test set."
   ]
  },
  {
   "cell_type": "code",
   "execution_count": 13,
   "metadata": {},
   "outputs": [],
   "source": [
    "from sklearn.linear_model import LinearRegression\n",
    "from sklearn.tree import DecisionTreeRegressor\n",
    "\n",
    "# Use historical data to forecast prices after the year 2000\n",
    "data_train = ram_prices[ram_prices.date < 2000]\n",
    "data_test = ram_prices[ram_prices.date >= 2000]\n",
    "\n",
    "# Predict prices based on date\n",
    "X_train = data_train.date[:, np.newaxis]\n",
    "\n",
    "# We use a log transform to get a simpler relationship of data to target\n",
    "y_train = np.log(data_train.price)\n",
    "\n",
    "tree = DecisionTreeRegressor(max_depth = 3).fit(X_train, y_train)\n",
    "linear_reg = LinearRegression().fit(X_train, y_train)\n",
    "\n",
    "# Predict on all data\n",
    "X_all = ram_prices.date[:, np.newaxis]\n",
    "\n",
    "pred_tree = tree.predict(X_all)\n",
    "pred_lr = linear_reg.predict(X_all)\n",
    "\n",
    "# Undo log transform\n",
    "price_tree = np.exp(pred_tree)\n",
    "price_lr = np.exp(pred_lr)"
   ]
  },
  {
   "cell_type": "markdown",
   "metadata": {},
   "source": [
    "Here, we compare the predictions of the decision tree and linear regression model with the ground truth."
   ]
  },
  {
   "cell_type": "code",
   "execution_count": 15,
   "metadata": {},
   "outputs": [
    {
     "data": {
      "text/plain": [
       "<matplotlib.legend.Legend at 0x7f72ff74eb00>"
      ]
     },
     "execution_count": 15,
     "metadata": {},
     "output_type": "execute_result"
    },
    {
     "data": {
      "image/png": "[encoded data removed]",
      "text/plain": [
       "<Figure size 432x288 with 1 Axes>"
      ]
     },
     "metadata": {
      "needs_background": "light"
     },
     "output_type": "display_data"
    }
   ],
   "source": [
    "plt.semilogy(data_train.date, data_train.price, label=\"Training data\")\n",
    "plt.semilogy(data_test.date, data_test.price, label=\"Test data\")\n",
    "plt.semilogy(ram_prices.date, price_tree, label=\"Tree prediction\")\n",
    "plt.semilogy(ram_prices.date, price_lr, label=\"Linear prediction\")\n",
    "plt.legend()"
   ]
  },
  {
   "cell_type": "markdown",
   "metadata": {},
   "source": [
    "Here, the difference between the models is quite striking.  The linear model approximates the data with a line.  The tree model makes perfect predictions on the training data, but once we leave the date range for which the model has data, the model simply keeps predicting the last known point.\n",
    "\n",
    "The tree has no ability to generate new responses.  This shortcoming applies to all models based on trees."
   ]
  },
  {
   "cell_type": "markdown",
   "metadata": {},
   "source": [
    "### Strengths, Weaknesses, and Parameters"
   ]
  },
  {
   "cell_type": "markdown",
   "metadata": {},
   "source": [
    "The parameters that control model complexity in decision trees are the pre-pruning parameters that top the building of the tree before it is fully developed.  Usually setting one of the strategies (*max_depth*, *max_leaf_nodes*, or *min_samples_leaf*) is sufficient to prevent overfitting."
   ]
  },
  {
   "cell_type": "markdown",
   "metadata": {},
   "source": [
    "Decision trees have 2 major advantages over many other algorithms:\n",
    "- The resulting model can be visualized and understood by nonexperts.\n",
    "- The algorithms are completely invariant to scaling of the data.  In particular, decision trees work well when you have features that are on completely different scales, or a mix of binary and continuous features."
   ]
  },
  {
   "cell_type": "markdown",
   "metadata": {},
   "source": [
    "The main downsides of decision trees is that even with the use of pre-pruning, they tend to overfit and provide poor generalization performance.  Therefore, ensembles of decision trees are usually used in place of a single decision tree."
   ]
  }
 ],
 "metadata": {
  "kernelspec": {
   "display_name": "Python 3",
   "language": "python",
   "name": "python3"
  },
  "language_info": {
   "codemirror_mode": {
    "name": "ipython",
    "version": 3
   },
   "file_extension": ".py",
   "mimetype": "text/x-python",
   "name": "python",
   "nbconvert_exporter": "python",
   "pygments_lexer": "ipython3",
   "version": "3.7.1"
  }
 },
 "nbformat": 4,
 "nbformat_minor": 2
}
